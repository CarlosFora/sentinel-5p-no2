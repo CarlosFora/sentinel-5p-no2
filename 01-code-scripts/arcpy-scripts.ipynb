{
 "cells": [
  {
   "cell_type": "markdown",
   "metadata": {},
   "source": [
    "# Extracting Geographical Extents for Countries"
   ]
  },
  {
   "cell_type": "markdown",
   "metadata": {},
   "source": [
    "## Imports"
   ]
  },
  {
   "cell_type": "code",
   "execution_count": 13,
   "metadata": {},
   "outputs": [],
   "source": [
    "import csv"
   ]
  },
  {
   "cell_type": "markdown",
   "metadata": {},
   "source": [
    "## Functions"
   ]
  },
  {
   "cell_type": "code",
   "execution_count": 14,
   "metadata": {},
   "outputs": [],
   "source": [
    "def get_shapefile_extent(shapefile_path):\n",
    "    \"\"\"Extracts and returns the shapefile extent: (xmin, ymin, xmax, ymax).\n",
    "\n",
    "    Parameters\n",
    "    ----------\n",
    "    shapefile_path : str\n",
    "        Path to the shapefile (.shp).\n",
    "\n",
    "    Returns\n",
    "    -------\n",
    "    extent : tuple\n",
    "        Tuple containing (xmin, ymin, xmax, ymax).\n",
    "\n",
    "    Example\n",
    "    -------\n",
    "        >>> # Imports\n",
    "        >>> import arcpy\n",
    "        >>> # Get spatial extent\n",
    "        >>> get_shapefile_extent(\"vermont_boundary.shp\")\n",
    "        424788.83999999985 25211.83689999953 581554.3701 279798.47360000014\n",
    "    \"\"\"\n",
    "    # Extract extent\n",
    "    extent = arcpy.Describe(shapefile_path).extent\n",
    "\n",
    "    return (extent.XMin, extent.YMin, extent.XMax, extent.YMax)"
   ]
  },
  {
   "cell_type": "code",
   "execution_count": 15,
   "metadata": {},
   "outputs": [],
   "source": [
    "def get_shapefile_crs(shapefile_path):\n",
    "    \"\"\"Extracts and returns the shapefile crs: (name, units).\n",
    "\n",
    "    Parameters\n",
    "    ----------\n",
    "    shapefile_path : str\n",
    "        Path to the shapefile (.shp).\n",
    "\n",
    "    Returns\n",
    "    -------\n",
    "    extent : tuple\n",
    "        Tuple containing (name, units).\n",
    "\n",
    "    Example\n",
    "    -------\n",
    "        >>> # Imports\n",
    "        >>> import arcpy\n",
    "        >>> # Get CRS info\n",
    "        >>> get_shapefile_crs(\"vermont_boundary.shp\")\n",
    "        ('NAD83_Vermont', 'Meter')\n",
    "    \"\"\"\n",
    "    # Get spatial reference object\n",
    "    spatial_reference = arcpy.Describe(shapefile_path).spatialReference\n",
    "    \n",
    "    # Extract CRS name and units\n",
    "    crs_name = spatial_reference.name\n",
    "    crs_units = spatial_reference.linearUnitName if spatial_reference.linearUnitName else \"Degrees\"\n",
    "\n",
    "    return (crs_name, crs_units)"
   ]
  },
  {
   "cell_type": "code",
   "execution_count": 16,
   "metadata": {},
   "outputs": [],
   "source": [
    "def get_country_name(shapefile):\n",
    "    \"\"\"Extracts the country name from a shapefile.\n",
    "    \n",
    "    Expects the file name to match \"gadm36_NAME_NAME.shp\".\n",
    "    \n",
    "    Parameters\n",
    "    ----------\n",
    "    shapefile : str\n",
    "        File to extract the country name from.\n",
    "    \n",
    "    Returns\n",
    "    -------\n",
    "    country_name : str\n",
    "        Name of the country, extracted from the original shapefile name.\n",
    "    \n",
    "    Example\n",
    "    -------\n",
    "        >>> # Get country name\n",
    "        >>> get_country_name(\"gadm36_south_korea.shp\")\n",
    "        'South Korea'\n",
    "    \"\"\"\n",
    "    # Extract country name\n",
    "    country_name = ' '.join([word.capitalize() for word in shapefile[7:].split('_')])\n",
    "    \n",
    "    return country_name"
   ]
  },
  {
   "cell_type": "markdown",
   "metadata": {},
   "source": [
    "## Get and Save Extents"
   ]
  },
  {
   "cell_type": "code",
   "execution_count": 17,
   "metadata": {},
   "outputs": [],
   "source": [
    "# Create list of shapefile names (without .shp if run in ArcGIS project)\n",
    "country_shapefiles = [\n",
    "    \"gadm36_singapore\",\n",
    "    \"gadm36_south_korea\"\n",
    "]\n",
    "\n",
    "# Create list of names and exents (for saving to CSV)\n",
    "country_extents = [\n",
    "    [get_country_name(shapefile), get_shapefile_extent(shapefile)] \n",
    "    for shapefile in country_shapefiles\n",
    "]\n",
    "\n",
    "# Write country extents to CSV file\n",
    "with open('country-extents.csv', mode='w', newline='') as csv_file:\n",
    "    csv_writer = csv.writer(csv_file, delimiter=',', quotechar='\"', quoting=csv.QUOTE_MINIMAL)\n",
    "    csv_writer.writerow([\"Country\", \"Extent\"])\n",
    "    csv_writer.writerows(country_extents)"
   ]
  },
  {
   "cell_type": "code",
   "execution_count": 18,
   "metadata": {},
   "outputs": [
    {
     "name": "stdout",
     "output_type": "stream",
     "text": [
      "Country, Extent\n",
      "Singapore, (103.60905457, 1.16638994, 104.08580017, 1.47138798)\n",
      "South Korea, (125.08180237, 33.11208344, 130.94041443, 38.6121521)\n"
     ]
    }
   ],
   "source": [
    "# Read CSV to check if the data are in order\n",
    "with open('country-extents.csv', newline='') as csv_file:\n",
    "    csv_reader = csv.reader(csv_file, delimiter=',', quotechar='\"')\n",
    "    for row in csv_reader:\n",
    "        print(', '.join(row))"
   ]
  },
  {
   "cell_type": "code",
   "execution_count": null,
   "metadata": {},
   "outputs": [],
   "source": []
  }
 ],
 "metadata": {
  "kernelspec": {
   "display_name": "ArcGISPro",
   "language": "Python",
   "name": "python3"
  },
  "language_info": {
   "file_extension": ".py",
   "name": "python",
   "version": "3"
  }
 },
 "nbformat": 4,
 "nbformat_minor": 2
}
