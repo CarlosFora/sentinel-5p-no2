{
 "cells": [
  {
   "cell_type": "markdown",
   "metadata": {},
   "source": [
    "# Sentinel-5P NO2 in Singapore"
   ]
  },
  {
   "cell_type": "markdown",
   "metadata": {},
   "source": [
    "## Environment Setup"
   ]
  },
  {
   "cell_type": "code",
   "execution_count": null,
   "metadata": {
    "ExecuteTime": {
     "end_time": "2020-10-09T16:42:02.846217Z",
     "start_time": "2020-10-09T16:42:02.679662Z"
    }
   },
   "outputs": [],
   "source": [
    "# Load Notebook formatter\n",
    "%load_ext nb_black"
   ]
  },
  {
   "cell_type": "code",
   "execution_count": null,
   "metadata": {
    "ExecuteTime": {
     "end_time": "2020-10-09T16:42:04.823926Z",
     "start_time": "2020-10-09T16:42:02.849208Z"
    }
   },
   "outputs": [],
   "source": [
    "# Imports\n",
    "import os\n",
    "import glob\n",
    "import pytz\n",
    "import matplotlib.pyplot as plt\n",
    "from matplotlib.dates import DateFormatter\n",
    "import seaborn as sns\n",
    "import numpy as np\n",
    "import pandas as pd\n",
    "from pandas.plotting import register_matplotlib_converters\n",
    "import geopandas as gpd\n",
    "import rasterio as rio\n",
    "import earthpy.plot as ep\n",
    "import radiance as rd\n",
    "import sentinel as stl"
   ]
  },
  {
   "cell_type": "code",
   "execution_count": null,
   "metadata": {
    "ExecuteTime": {
     "end_time": "2020-10-09T16:42:04.840915Z",
     "start_time": "2020-10-09T16:42:04.826918Z"
    }
   },
   "outputs": [],
   "source": [
    "# Set options\n",
    "register_matplotlib_converters()\n",
    "sns.set(font_scale=1.5, style=\"whitegrid\")\n",
    "np.set_printoptions(suppress=True)"
   ]
  },
  {
   "cell_type": "code",
   "execution_count": null,
   "metadata": {
    "ExecuteTime": {
     "end_time": "2020-10-09T16:42:04.871799Z",
     "start_time": "2020-10-09T16:42:04.842877Z"
    }
   },
   "outputs": [],
   "source": [
    "# Set working directory\n",
    "os.chdir(\"..\")\n",
    "print(f\"Working directory: {os.getcwd()}\")"
   ]
  },
  {
   "cell_type": "markdown",
   "metadata": {},
   "source": [
    "## Data Acquisition & Preprocessing"
   ]
  },
  {
   "cell_type": "markdown",
   "metadata": {},
   "source": [
    "### NO2 Mean Data"
   ]
  },
  {
   "cell_type": "code",
   "execution_count": null,
   "metadata": {
    "ExecuteTime": {
     "end_time": "2020-10-09T16:42:04.918674Z",
     "start_time": "2020-10-09T16:42:04.874791Z"
    }
   },
   "outputs": [],
   "source": [
    "# Get path to pre- and post-change data\n",
    "no2_2019_tif_path = os.path.join(\n",
    "    \"03-processed-data\",\n",
    "    \"raster\",\n",
    "    \"singapore\",\n",
    "    \"statistics\",\n",
    "    \"S5P-OFFL-L3-NO2-20190101-20190630-MEAN-MOL-PER-M2.tif\",\n",
    ")\n",
    "no2_2020_tif_path = os.path.join(\n",
    "    \"03-processed-data\",\n",
    "    \"raster\",\n",
    "    \"singapore\",\n",
    "    \"statistics\",\n",
    "    \"S5P-OFFL-L3-NO2-20200101-20200630-MEAN-MOL-PER-M2.tif\",\n",
    ")\n",
    "\n",
    "# Read data into arrays\n",
    "no2_mean_20190101_20190630 = stl.read_geotiff_into_array(no2_2019_tif_path)\n",
    "no2_mean_20200101_20200630 = stl.read_geotiff_into_array(no2_2020_tif_path)"
   ]
  },
  {
   "cell_type": "code",
   "execution_count": null,
   "metadata": {
    "ExecuteTime": {
     "end_time": "2020-10-09T16:42:04.931653Z",
     "start_time": "2020-10-09T16:42:04.921666Z"
    }
   },
   "outputs": [],
   "source": [
    "# Confirm equal array shapes\n",
    "no2_mean_20190101_20190630.shape == no2_mean_20200101_20200630.shape"
   ]
  },
  {
   "cell_type": "markdown",
   "metadata": {},
   "source": [
    "### Plotting Extent"
   ]
  },
  {
   "cell_type": "code",
   "execution_count": null,
   "metadata": {
    "ExecuteTime": {
     "end_time": "2020-10-09T16:42:04.952582Z",
     "start_time": "2020-10-09T16:42:04.936625Z"
    }
   },
   "outputs": [],
   "source": [
    "# Extract plotting extent\n",
    "singapore_extent = stl.extract_plotting_extent(no2_2019_tif_path)\n",
    "print(f\"Singapore Extent: {singapore_extent}\")"
   ]
  },
  {
   "cell_type": "markdown",
   "metadata": {},
   "source": [
    "### Singapore Boundary"
   ]
  },
  {
   "cell_type": "code",
   "execution_count": null,
   "metadata": {
    "ExecuteTime": {
     "end_time": "2020-10-09T16:42:05.045336Z",
     "start_time": "2020-10-09T16:42:04.955575Z"
    }
   },
   "outputs": [],
   "source": [
    "# Define path to Singapore shapefile\n",
    "singapore_shp_path = os.path.join(\n",
    "    \"02-raw-data\", \"vector\", \"singapore\", \"gadm36_singapore.shp\"\n",
    ")\n",
    "\n",
    "# Read Singapore shapefile into geodataframe and project if necessary\n",
    "singapore_boundary = stl.project_vector(\n",
    "    vector_path=singapore_shp_path, raster_path=no2_2019_tif_path\n",
    ")\n",
    "\n",
    "# Create extent polygon\n",
    "singapore_polygon = stl.create_polygon_from_extent(singapore_extent)\n",
    "\n",
    "print(f\"Singapore CRS: {singapore_boundary.crs}\")\n",
    "print(f\"Singapore Bounds:\\n{singapore_boundary.bounds.loc[0]}\")"
   ]
  },
  {
   "cell_type": "markdown",
   "metadata": {},
   "source": [
    "### Malaysia Boundary"
   ]
  },
  {
   "cell_type": "code",
   "execution_count": null,
   "metadata": {
    "ExecuteTime": {
     "end_time": "2020-10-09T16:42:06.738805Z",
     "start_time": "2020-10-09T16:42:05.048326Z"
    }
   },
   "outputs": [],
   "source": [
    "# Define path to Malaysia shapefile\n",
    "malaysia_shp_path = os.path.join(\n",
    "    \"02-raw-data\", \"vector\", \"malaysia\", \"gadm36_malaysia.shp\"\n",
    ")\n",
    "\n",
    "# Read Malaysia shapefile into geodataframe and project if necessary\n",
    "malaysia_boundary = stl.project_vector(\n",
    "    vector_path=malaysia_shp_path, raster_path=no2_2019_tif_path\n",
    ")\n",
    "\n",
    "print(f\"Malaysia CRS: {malaysia_boundary.crs}\")\n",
    "print(f\"Malaysia Bounds:\\n{malaysia_boundary.bounds.loc[0]}\")\n",
    "\n",
    "# Clip Malaysia to Singapore extent polygon\n",
    "malaysia_boundary_clipped = gpd.clip(\n",
    "    gpd.GeoDataFrame(geometry=[singapore_polygon], crs=singapore_boundary.crs),\n",
    "    malaysia_boundary,\n",
    ")\n",
    "\n",
    "print(f\"\\nMalaysia Clipped CRS: {malaysia_boundary_clipped.crs}\")\n",
    "print(f\"Malaysia Clipped Bounds:\\n{malaysia_boundary_clipped.bounds.loc[0]}\")"
   ]
  },
  {
   "cell_type": "code",
   "execution_count": null,
   "metadata": {
    "ExecuteTime": {
     "end_time": "2020-10-09T16:42:07.096848Z",
     "start_time": "2020-10-09T16:42:06.740800Z"
    }
   },
   "outputs": [],
   "source": [
    "# Display clipped boundary\n",
    "malaysia_boundary_clipped.boundary.plot()"
   ]
  },
  {
   "cell_type": "markdown",
   "metadata": {},
   "source": [
    "## Data Processing"
   ]
  },
  {
   "cell_type": "markdown",
   "metadata": {},
   "source": [
    "### NO2 Percent Change"
   ]
  },
  {
   "cell_type": "code",
   "execution_count": null,
   "metadata": {
    "ExecuteTime": {
     "end_time": "2020-10-09T16:42:07.106828Z",
     "start_time": "2020-10-09T16:42:07.099840Z"
    }
   },
   "outputs": [],
   "source": [
    "# Calculate difference\n",
    "no2_difference = no2_mean_20200101_20200630 - no2_mean_20190101_20190630"
   ]
  },
  {
   "cell_type": "code",
   "execution_count": null,
   "metadata": {
    "ExecuteTime": {
     "end_time": "2020-10-09T16:42:07.126776Z",
     "start_time": "2020-10-09T16:42:07.108815Z"
    },
    "scrolled": true
   },
   "outputs": [],
   "source": [
    "# Calculate the percent change\n",
    "percent_change = (\n",
    "    np.divide(\n",
    "        (no2_mean_20200101_20200630 - no2_mean_20190101_20190630),\n",
    "        no2_mean_20190101_20190630,\n",
    "    )\n",
    "    * 100\n",
    ")\n",
    "print(f\"Percent change type: {type(percent_change)}\")\n",
    "print(f\"Percent change min: {percent_change.min()}\")\n",
    "print(f\"Percent change max: {percent_change.max()}\")"
   ]
  },
  {
   "cell_type": "markdown",
   "metadata": {},
   "source": [
    "### NO2 Time Series"
   ]
  },
  {
   "cell_type": "code",
   "execution_count": null,
   "metadata": {
    "ExecuteTime": {
     "end_time": "2020-10-09T16:42:07.149707Z",
     "start_time": "2020-10-09T16:42:07.128762Z"
    }
   },
   "outputs": [],
   "source": [
    "# Get Level-3 files into list\n",
    "level3_files = glob.glob(\n",
    "    os.path.join(\"03-processed-data\", \"raster\", \"singapore\", \"daily\", \"*.tif\")\n",
    ")"
   ]
  },
  {
   "cell_type": "code",
   "execution_count": null,
   "metadata": {
    "ExecuteTime": {
     "end_time": "2020-10-09T16:42:17.865593Z",
     "start_time": "2020-10-09T16:42:07.152699Z"
    }
   },
   "outputs": [],
   "source": [
    "# Get list of timestamps, NO2 means, and percent masked into arrays\n",
    "timestamps = []\n",
    "means = []\n",
    "percent_masked = []\n",
    "for level3_file in level3_files:\n",
    "\n",
    "    # Parse timestamp and create datetime object\n",
    "    timestamp = os.path.basename(level3_file)[27:46].split(\"-\")\n",
    "    year, month, day = list(map(int, timestamp[:-1]))\n",
    "    hour, minute, second = list(\n",
    "        map(int, [timestamp[3][1:3], timestamp[3][3:5], timestamp[3][5:7]])\n",
    "    )\n",
    "    timestamps.append(\n",
    "        pd.datetime(year, month, day, hour, minute, second, tzinfo=pytz.utc)\n",
    "    )\n",
    "\n",
    "    # Calculate NO2 mean and percent masked\n",
    "    with rio.open(level3_file) as file:\n",
    "        means.append(np.nanmean(file.read(1)))\n",
    "        percent_masked.append(rd.calculate_percent_masked(file.read(1)))\n",
    "\n",
    "# Convert lists to arrays (for plotting)\n",
    "timestamps_arr, means_arr, percent_masked_arr = (\n",
    "    np.array(timestamps),\n",
    "    np.array(means),\n",
    "    np.array(percent_masked),\n",
    ")"
   ]
  },
  {
   "cell_type": "markdown",
   "metadata": {},
   "source": [
    "## Data Visualization"
   ]
  },
  {
   "cell_type": "code",
   "execution_count": null,
   "metadata": {
    "ExecuteTime": {
     "end_time": "2020-10-09T16:42:18.230581Z",
     "start_time": "2020-10-09T16:42:17.867550Z"
    },
    "scrolled": false
   },
   "outputs": [],
   "source": [
    "# Plot Singapore boundary\n",
    "with plt.style.context(\"dark_background\"):\n",
    "    fig, ax = plt.subplots(figsize=(12, 12))\n",
    "    singapore_boundary.boundary.plot(\n",
    "        facecolor=\"green\", edgecolor=\"purple\", linewidth=1, ax=ax\n",
    "    )"
   ]
  },
  {
   "cell_type": "code",
   "execution_count": null,
   "metadata": {
    "ExecuteTime": {
     "end_time": "2020-10-09T16:42:18.749224Z",
     "start_time": "2020-10-09T16:42:18.232574Z"
    }
   },
   "outputs": [],
   "source": [
    "# Plot Malaysia boundary\n",
    "with plt.style.context(\"dark_background\"):\n",
    "    fig, ax = plt.subplots(figsize=(12, 12))\n",
    "    malaysia_boundary.boundary.plot(\n",
    "        facecolor=\"green\", edgecolor=\"purple\", linewidth=1, ax=ax\n",
    "    )"
   ]
  },
  {
   "cell_type": "code",
   "execution_count": null,
   "metadata": {
    "ExecuteTime": {
     "end_time": "2020-10-09T16:42:19.109231Z",
     "start_time": "2020-10-09T16:42:18.751188Z"
    }
   },
   "outputs": [],
   "source": [
    "# Plot Malaysia clipped boundary\n",
    "with plt.style.context(\"dark_background\"):\n",
    "    fig, ax = plt.subplots(figsize=(12, 12))\n",
    "    malaysia_boundary_clipped.boundary.plot(\n",
    "        facecolor=\"green\", edgecolor=\"purple\", linewidth=1, ax=ax\n",
    "    )"
   ]
  },
  {
   "cell_type": "code",
   "execution_count": null,
   "metadata": {
    "ExecuteTime": {
     "end_time": "2020-10-09T16:42:19.589945Z",
     "start_time": "2020-10-09T16:42:19.111223Z"
    }
   },
   "outputs": [],
   "source": [
    "# Plot Singapore boundary over 2019 NO2 data\n",
    "fig, ax = plt.subplots(figsize=(12, 12))\n",
    "ep.plot_bands(\n",
    "    no2_mean_20190101_20190630,\n",
    "    ax=ax,\n",
    "    title=\"2019 NO2 Data Overlayed with Singapore Country Boundary\",\n",
    "    extent=singapore_extent,\n",
    ")\n",
    "\n",
    "malaysia_boundary_clipped.boundary.plot(\n",
    "    edgecolor=\"yellow\", linewidth=1, ax=ax, alpha=1, label=\"Malaysia\"\n",
    ")\n",
    "\n",
    "singapore_boundary.boundary.plot(\n",
    "    edgecolor=\"green\", linewidth=1, ax=ax, alpha=1, label=\"Singapore\"\n",
    ")\n",
    "\n",
    "ax.legend(shadow=True, facecolor=\"black\", edgecolor=\"white\")\n",
    "\n",
    "plt.show()"
   ]
  },
  {
   "cell_type": "code",
   "execution_count": null,
   "metadata": {
    "ExecuteTime": {
     "end_time": "2020-10-09T16:42:20.218295Z",
     "start_time": "2020-10-09T16:42:19.591937Z"
    }
   },
   "outputs": [],
   "source": [
    "# Plot the 2019 to 2020 change\n",
    "fig, ax = stl.plot_change(\n",
    "    no2_mean_20190101_20190630,\n",
    "    no2_mean_20200101_20200630,\n",
    "    title=\"Change in Jan-Jun Mean NO2, 2019-2020\",\n",
    ")\n",
    "plt.show()"
   ]
  },
  {
   "cell_type": "code",
   "execution_count": null,
   "metadata": {
    "ExecuteTime": {
     "end_time": "2020-10-09T16:42:20.706959Z",
     "start_time": "2020-10-09T16:42:20.221256Z"
    },
    "scrolled": false
   },
   "outputs": [],
   "source": [
    "# Plot the 2019 to 2020 change, with boundary\n",
    "fig, ax = stl.plot_change_with_boundary(\n",
    "    no2_mean_20190101_20190630,\n",
    "    no2_mean_20200101_20200630,\n",
    "    extent_file=no2_2019_tif_path,\n",
    "    title=\"Change in Jan-Jun Mean NO2, 2019-2020\",\n",
    ")\n",
    "\n",
    "malaysia_boundary_clipped.boundary.plot(\n",
    "    edgecolor=\"#762a83\", linewidth=1, ax=ax, alpha=1, label=\"Malaysia\"\n",
    ")\n",
    "\n",
    "singapore_boundary.boundary.plot(\n",
    "    edgecolor=\"#1b7837\", linewidth=1, ax=ax, alpha=1, label=\"Singapore\"\n",
    ")\n",
    "\n",
    "ax.legend(\n",
    "    shadow=True, edgecolor=\"black\",\n",
    ")\n",
    "\n",
    "plt.show()"
   ]
  },
  {
   "cell_type": "code",
   "execution_count": null,
   "metadata": {
    "ExecuteTime": {
     "end_time": "2020-10-09T16:42:20.994317Z",
     "start_time": "2020-10-09T16:42:20.709949Z"
    }
   },
   "outputs": [],
   "source": [
    "# Plot percent change\n",
    "fig = stl.plot_percent_change(\n",
    "    percent_change, title=\"Change in Jan-Jun Mean NO2, 2019-2020\"\n",
    ")\n",
    "plt.show()"
   ]
  },
  {
   "cell_type": "code",
   "execution_count": null,
   "metadata": {
    "ExecuteTime": {
     "end_time": "2020-10-09T16:42:21.490082Z",
     "start_time": "2020-10-09T16:42:20.999304Z"
    }
   },
   "outputs": [],
   "source": [
    "# Plot percent change, with boundary\n",
    "fig, ax = stl.plot_percent_change_with_boundary(\n",
    "    percent_change,\n",
    "    extent_file=no2_2019_tif_path,\n",
    "    title=\"Change in Jan-Jun Mean NO2, 2019-2020\",\n",
    ")\n",
    "\n",
    "malaysia_boundary_clipped.boundary.plot(\n",
    "    edgecolor=\"#762a83\", linewidth=1, ax=ax, alpha=1, label=\"Malaysia\"\n",
    ")\n",
    "\n",
    "singapore_boundary.boundary.plot(\n",
    "    edgecolor=\"#1b7837\", linewidth=1, ax=ax, alpha=1, label=\"Singapore\"\n",
    ")\n",
    "\n",
    "ax.legend(shadow=True, edgecolor=\"black\")\n",
    "\n",
    "plt.show()"
   ]
  },
  {
   "cell_type": "code",
   "execution_count": null,
   "metadata": {
    "ExecuteTime": {
     "end_time": "2020-10-09T16:42:21.947828Z",
     "start_time": "2020-10-09T16:42:21.494042Z"
    }
   },
   "outputs": [],
   "source": [
    "# Plot histogram of percent change\n",
    "fig = stl.plot_histogram(percent_change, location=\"Singapore\")\n",
    "plt.show()"
   ]
  },
  {
   "cell_type": "code",
   "execution_count": null,
   "metadata": {
    "ExecuteTime": {
     "end_time": "2020-10-09T16:42:22.619034Z",
     "start_time": "2020-10-09T16:42:21.950819Z"
    }
   },
   "outputs": [],
   "source": [
    "# Plot full study area time series mean\n",
    "with plt.style.context(\"dark_background\"):\n",
    "    fig, ax = plt.subplots(figsize=(20, 10))\n",
    "    ax.scatter(timestamps_arr, means_arr, facecolor=\"#ff7f00\")\n",
    "    ax.set_title(\n",
    "        \"Singapore Mean NO2, Full Study Area, Jul 2018 - Jul 2020\", size=24\n",
    "    )\n",
    "    ax.set_xlabel(\"Date\", size=20)\n",
    "    ax.set_ylabel(\"Mean NO2 ($\\mathrm{mol \\cdot m^{-2}}$)\", size=24)\n",
    "    plt.xticks(fontsize=20)\n",
    "    plt.yticks(fontsize=20)\n",
    "    date_form = DateFormatter(\"%b-%Y\")\n",
    "    ax.xaxis.set_major_formatter(date_form)\n",
    "    fig.text(\n",
    "        0.5,\n",
    "        0.025,\n",
    "        \"Data Source: European Space Agency\",\n",
    "        ha=\"center\",\n",
    "        fontsize=16,\n",
    "    )\n",
    "\n",
    "plt.show()"
   ]
  },
  {
   "cell_type": "code",
   "execution_count": null,
   "metadata": {
    "ExecuteTime": {
     "end_time": "2020-10-09T16:42:23.520619Z",
     "start_time": "2020-10-09T16:42:22.623022Z"
    },
    "scrolled": false
   },
   "outputs": [],
   "source": [
    "# Plot full study area time series percent masked\n",
    "with plt.style.context(\"dark_background\"):\n",
    "    fig, ax = plt.subplots(figsize=(20, 10))\n",
    "    ax.scatter(timestamps_arr, percent_masked_arr, facecolor=\"#ff7f00\")\n",
    "    ax.set_title(\n",
    "        \"Singapore Full Study Area, Percent Masked, Jul 2018 - Jul 2020\",\n",
    "        size=24,\n",
    "    )\n",
    "    ax.set_xlabel(\"Date\", size=20)\n",
    "    ax.set_ylabel(\"Percent Masked (%)\", size=24)\n",
    "    plt.xticks(fontsize=20)\n",
    "    plt.yticks(fontsize=20)\n",
    "    date_form = DateFormatter(\"%b-%Y\")\n",
    "    ax.xaxis.set_major_formatter(date_form)\n",
    "    fig.text(\n",
    "        0.5,\n",
    "        0.025,\n",
    "        \"Data Source: European Space Agency\",\n",
    "        ha=\"center\",\n",
    "        fontsize=16,\n",
    "    )\n",
    "\n",
    "plt.show()"
   ]
  },
  {
   "cell_type": "code",
   "execution_count": null,
   "metadata": {
    "ExecuteTime": {
     "end_time": "2020-10-09T16:42:24.242690Z",
     "start_time": "2020-10-09T16:42:23.524609Z"
    }
   },
   "outputs": [],
   "source": [
    "# Plot histogram of percent masked\n",
    "fig = stl.plot_histogram(\n",
    "    percent_masked_arr,\n",
    "    location=\"Singapore\",\n",
    "    title=\"Distribution of Percent Masked, Jul 2018 - Jul 2020\",\n",
    "    xlabel=\"Percent Masked\",\n",
    "    ylabel=\"Scene Count\",\n",
    "    difference=False,\n",
    ")\n",
    "plt.show()"
   ]
  },
  {
   "cell_type": "code",
   "execution_count": null,
   "metadata": {
    "ExecuteTime": {
     "end_time": "2020-10-09T16:42:24.776262Z",
     "start_time": "2020-10-09T16:42:24.246678Z"
    }
   },
   "outputs": [],
   "source": [
    "# Plot normalized histogram of percent masked\n",
    "#  (normalized to form a probability density)\n",
    "fig = stl.plot_normalized_histogram(\n",
    "    percent_masked_arr,\n",
    "    location=\"Singapore\",\n",
    "    ylabel=\"Normalized Scene Count (Probability Density)\",\n",
    ")\n",
    "\n",
    "plt.show()"
   ]
  },
  {
   "cell_type": "markdown",
   "metadata": {},
   "source": [
    "## Data Export"
   ]
  },
  {
   "cell_type": "markdown",
   "metadata": {},
   "source": [
    "### Non-Georeferenced"
   ]
  },
  {
   "cell_type": "code",
   "execution_count": null,
   "metadata": {
    "ExecuteTime": {
     "end_time": "2020-10-09T16:42:27.851037Z",
     "start_time": "2020-10-09T16:42:24.778257Z"
    }
   },
   "outputs": [],
   "source": [
    "# Export 2019 to 2020 change\n",
    "fig = stl.plot_change(\n",
    "    no2_mean_20190101_20190630,\n",
    "    no2_mean_20200101_20200630,\n",
    "    location=\"Singapore\",\n",
    "    title=\"Change in Jan-Jun Mean NO2, 2019-2020\",\n",
    ")\n",
    "\n",
    "rd.save_figure(\n",
    "    os.path.join(\n",
    "        \"04-graphics-outputs\",\n",
    "        \"spatial-plots\",\n",
    "        \"singapore\",\n",
    "        \"singapore-no2-mean-change-jan-jun-2019-2020.png\",\n",
    "    )\n",
    ")"
   ]
  },
  {
   "cell_type": "code",
   "execution_count": null,
   "metadata": {
    "ExecuteTime": {
     "end_time": "2020-10-09T16:42:31.018566Z",
     "start_time": "2020-10-09T16:42:27.853033Z"
    }
   },
   "outputs": [],
   "source": [
    "# Plot the change only, with boundary, and export\n",
    "fig, ax = stl.plot_change_with_boundary(\n",
    "    no2_mean_20190101_20190630,\n",
    "    no2_mean_20200101_20200630,\n",
    "    extent_file=no2_2019_tif_path,\n",
    "    location=\"Singapore\",\n",
    "    title=\"Change in Jan-Jun Mean NO2, 2019-2020\",\n",
    ")\n",
    "\n",
    "malaysia_boundary_clipped.boundary.plot(\n",
    "    edgecolor=\"#762a83\", linewidth=1, ax=ax, alpha=1, label=\"Malaysia\"\n",
    ")\n",
    "\n",
    "singapore_boundary.boundary.plot(\n",
    "    edgecolor=\"#1b7837\", linewidth=1, ax=ax, alpha=1, label=\"Singapore\"\n",
    ")\n",
    "\n",
    "ax.legend(\n",
    "    shadow=True, edgecolor=\"black\",\n",
    ")\n",
    "\n",
    "rd.save_figure(\n",
    "    os.path.join(\n",
    "        \"04-graphics-outputs\",\n",
    "        \"spatial-plots\",\n",
    "        \"singapore\",\n",
    "        \"singapore-no2-mean-change-jan-jun-2019-2020-with-boundary.png\",\n",
    "    )\n",
    ")"
   ]
  },
  {
   "cell_type": "code",
   "execution_count": null,
   "metadata": {
    "ExecuteTime": {
     "end_time": "2020-10-09T16:42:33.628587Z",
     "start_time": "2020-10-09T16:42:31.021559Z"
    },
    "scrolled": false
   },
   "outputs": [],
   "source": [
    "# Plot and export percent change\n",
    "fig = stl.plot_percent_change(\n",
    "    percent_change,\n",
    "    location=\"Singapore\",\n",
    "    title=\"Change in Jan-Jun Mean NO2, 2019-2020\",\n",
    ")\n",
    "\n",
    "rd.save_figure(\n",
    "    os.path.join(\n",
    "        \"04-graphics-outputs\",\n",
    "        \"spatial-plots\",\n",
    "        \"singapore\",\n",
    "        \"singapore-no2-mean-change-percent-jan-jun-2019-2020.png\",\n",
    "    )\n",
    ")"
   ]
  },
  {
   "cell_type": "code",
   "execution_count": null,
   "metadata": {
    "ExecuteTime": {
     "end_time": "2020-10-09T16:42:36.602632Z",
     "start_time": "2020-10-09T16:42:33.631577Z"
    }
   },
   "outputs": [],
   "source": [
    "# Plot percent change, with boundary\n",
    "fig, ax = stl.plot_percent_change_with_boundary(\n",
    "    percent_change,\n",
    "    extent_file=no2_2019_tif_path,\n",
    "    location=\"Singapore\",\n",
    "    title=\"Change in Jan-Jun Mean NO2, 2019-2020\",\n",
    ")\n",
    "\n",
    "malaysia_boundary_clipped.boundary.plot(\n",
    "    edgecolor=\"#762a83\", linewidth=1, ax=ax, alpha=1, label=\"Malaysia\"\n",
    ")\n",
    "\n",
    "singapore_boundary.boundary.plot(\n",
    "    edgecolor=\"#1b7837\", linewidth=1, ax=ax, alpha=1, label=\"Singapore\"\n",
    ")\n",
    "\n",
    "ax.legend(\n",
    "    shadow=True, edgecolor=\"black\",\n",
    ")\n",
    "\n",
    "rd.save_figure(\n",
    "    os.path.join(\n",
    "        \"04-graphics-outputs\",\n",
    "        \"spatial-plots\",\n",
    "        \"singapore\",\n",
    "        \"singapore-no2-mean-change-percent-jan-jun-2019-2020-with-boundary.png\",\n",
    "    )\n",
    ")"
   ]
  },
  {
   "cell_type": "code",
   "execution_count": null,
   "metadata": {
    "ExecuteTime": {
     "end_time": "2020-10-09T16:42:38.180411Z",
     "start_time": "2020-10-09T16:42:36.604627Z"
    }
   },
   "outputs": [],
   "source": [
    "# Plot and export histogram of percent change\n",
    "fig = stl.plot_histogram(percent_change, location=\"Singapore\")\n",
    "\n",
    "rd.save_figure(\n",
    "    os.path.join(\n",
    "        \"04-graphics-outputs\",\n",
    "        \"histograms\",\n",
    "        \"singapore\",\n",
    "        \"singapore-no2-mean-change-percent-histogram-jan-jun-2019-2020.png\",\n",
    "    )\n",
    ")"
   ]
  },
  {
   "cell_type": "code",
   "execution_count": null,
   "metadata": {
    "ExecuteTime": {
     "end_time": "2020-10-09T16:42:40.768489Z",
     "start_time": "2020-10-09T16:42:38.183404Z"
    }
   },
   "outputs": [],
   "source": [
    "# Plot and export full study area time series mean\n",
    "with plt.style.context(\"dark_background\"):\n",
    "    fig, ax = plt.subplots(figsize=(20, 10))\n",
    "    ax.scatter(timestamps_arr, means_arr, facecolor=\"#ff7f00\")\n",
    "    ax.set_title(\n",
    "        \"Singapore Mean NO2, Full Study Area, Jul 2018 - Jul 2020\", size=24\n",
    "    )\n",
    "    ax.set_xlabel(\"Date\", size=20)\n",
    "    ax.set_ylabel(\"Mean NO2 ($\\mathrm{mol \\cdot m^{-2}}$)\", size=24)\n",
    "    plt.xticks(fontsize=20)\n",
    "    plt.yticks(fontsize=20)\n",
    "    date_form = DateFormatter(\"%b-%Y\")\n",
    "    ax.xaxis.set_major_formatter(date_form)\n",
    "    fig.text(\n",
    "        0.5,\n",
    "        0.025,\n",
    "        \"Data Source: European Space Agency\",\n",
    "        ha=\"center\",\n",
    "        fontsize=16,\n",
    "    )\n",
    "\n",
    "rd.save_figure(\n",
    "    os.path.join(\n",
    "        \"04-graphics-outputs\",\n",
    "        \"time-series\",\n",
    "        \"singapore\",\n",
    "        \"singapore-no2-mean-full-study-area-jul-2018-2020.png\",\n",
    "    )\n",
    ")"
   ]
  },
  {
   "cell_type": "code",
   "execution_count": null,
   "metadata": {
    "ExecuteTime": {
     "end_time": "2020-10-09T16:42:43.192023Z",
     "start_time": "2020-10-09T16:42:40.771482Z"
    },
    "scrolled": false
   },
   "outputs": [],
   "source": [
    "# Plot and export full study area time series percent masked\n",
    "with plt.style.context(\"dark_background\"):\n",
    "    fig, ax = plt.subplots(figsize=(20, 10))\n",
    "    ax.scatter(timestamps_arr, percent_masked_arr, facecolor=\"#ff7f00\")\n",
    "    ax.set_title(\n",
    "        \"Singapore Full Study Area, Percent Masked, Jul 2018 - Jul 2020\",\n",
    "        size=24,\n",
    "    )\n",
    "    ax.set_xlabel(\"Date\", size=20)\n",
    "    ax.set_ylabel(\"Percent Masked (%)\", size=24)\n",
    "    plt.xticks(fontsize=20)\n",
    "    plt.yticks(fontsize=20)\n",
    "    date_form = DateFormatter(\"%b-%Y\")\n",
    "    ax.xaxis.set_major_formatter(date_form)\n",
    "    fig.text(\n",
    "        0.5,\n",
    "        0.025,\n",
    "        \"Data Source: European Space Agency\",\n",
    "        ha=\"center\",\n",
    "        fontsize=16,\n",
    "    )\n",
    "\n",
    "rd.save_figure(\n",
    "    os.path.join(\n",
    "        \"04-graphics-outputs\",\n",
    "        \"time-series\",\n",
    "        \"singapore\",\n",
    "        \"singapore-no2-percent-masked-full-study-area-jul-2018-2020.png\",\n",
    "    )\n",
    ")"
   ]
  },
  {
   "cell_type": "code",
   "execution_count": null,
   "metadata": {
    "ExecuteTime": {
     "end_time": "2020-10-09T16:42:44.997204Z",
     "start_time": "2020-10-09T16:42:43.194998Z"
    }
   },
   "outputs": [],
   "source": [
    "# Plot and export histogram of percent masked\n",
    "fig = stl.plot_histogram(\n",
    "    percent_masked_arr,\n",
    "    location=\"Singapore\",\n",
    "    title=\"Distribution of Percent Masked, Jul 2018 - Jul 2020\",\n",
    "    xlabel=\"Percent Masked\",\n",
    "    ylabel=\"Scene Count\",\n",
    "    difference=False,\n",
    ")\n",
    "\n",
    "rd.save_figure(\n",
    "    os.path.join(\n",
    "        \"04-graphics-outputs\",\n",
    "        \"histograms\",\n",
    "        \"singapore\",\n",
    "        \"singapore-no2-percent-masked-histogram-jul-2018-2020.png\",\n",
    "    )\n",
    ")"
   ]
  },
  {
   "cell_type": "code",
   "execution_count": null,
   "metadata": {
    "ExecuteTime": {
     "end_time": "2020-10-09T16:42:46.770470Z",
     "start_time": "2020-10-09T16:42:44.999173Z"
    }
   },
   "outputs": [],
   "source": [
    "# Plot and export normalized histogram of percent masked\n",
    "#  (normalized to form a probability density)\n",
    "fig = stl.plot_normalized_histogram(\n",
    "    percent_masked_arr,\n",
    "    location=\"Singapore\",\n",
    "    ylabel=\"Normalized Scene Count (Probability Density)\",\n",
    ")\n",
    "\n",
    "rd.save_figure(\n",
    "    os.path.join(\n",
    "        \"04-graphics-outputs\",\n",
    "        \"histograms\",\n",
    "        \"singapore\",\n",
    "        \"singapore-no2-percent-masked-histogram-normalized-jul-2018-2020.png\",\n",
    "    )\n",
    ")"
   ]
  },
  {
   "cell_type": "markdown",
   "metadata": {},
   "source": [
    "### Georeferenced"
   ]
  },
  {
   "cell_type": "code",
   "execution_count": null,
   "metadata": {
    "ExecuteTime": {
     "end_time": "2020-10-09T16:42:46.786428Z",
     "start_time": "2020-10-09T16:42:46.772430Z"
    }
   },
   "outputs": [],
   "source": [
    "# Extract metadata from GeoTiff\n",
    "singapore_metadata = stl.extract_geotiff_metadata(no2_2020_tif_path)\n",
    "singapore_metadata"
   ]
  },
  {
   "cell_type": "code",
   "execution_count": null,
   "metadata": {
    "ExecuteTime": {
     "end_time": "2020-10-09T16:42:46.828316Z",
     "start_time": "2020-10-09T16:42:46.789419Z"
    }
   },
   "outputs": [],
   "source": [
    "# Export NO2 change (magnitude and percent)\n",
    "export_files = [\n",
    "    (\n",
    "        no2_difference,\n",
    "        os.path.join(\n",
    "            \"03-processed-data\",\n",
    "            \"raster\",\n",
    "            \"singapore\",\n",
    "            \"change\",\n",
    "            \"singapore-no2-mean-change-jan-jun-2019-2020.tif\",\n",
    "        ),\n",
    "    ),\n",
    "    (\n",
    "        percent_change,\n",
    "        os.path.join(\n",
    "            \"03-processed-data\",\n",
    "            \"raster\",\n",
    "            \"singapore\",\n",
    "            \"change\",\n",
    "            \"singapore-no2-mean-change-percent-jan-jun-2019-2020.tif\",\n",
    "        ),\n",
    "    ),\n",
    "]\n",
    "\n",
    "for (array, outpath) in export_files:\n",
    "    rd.export_array(array, outpath, singapore_metadata)"
   ]
  },
  {
   "cell_type": "code",
   "execution_count": null,
   "metadata": {
    "ExecuteTime": {
     "end_time": "2020-10-09T16:42:46.840262Z",
     "start_time": "2020-10-09T16:42:46.831273Z"
    }
   },
   "outputs": [],
   "source": [
    "# Unload Notebook formatter\n",
    "%unload_ext nb_black"
   ]
  }
 ],
 "metadata": {
  "hide_input": false,
  "kernelspec": {
   "display_name": "Python 3",
   "language": "python",
   "name": "python3"
  },
  "language_info": {
   "codemirror_mode": {
    "name": "ipython",
    "version": 3
   },
   "file_extension": ".py",
   "mimetype": "text/x-python",
   "name": "python",
   "nbconvert_exporter": "python",
   "pygments_lexer": "ipython3",
   "version": "3.7.6"
  },
  "toc": {
   "base_numbering": 1,
   "nav_menu": {},
   "number_sections": true,
   "sideBar": true,
   "skip_h1_title": false,
   "title_cell": "Table of Contents",
   "title_sidebar": "Contents",
   "toc_cell": false,
   "toc_position": {},
   "toc_section_display": true,
   "toc_window_display": false
  },
  "varInspector": {
   "cols": {
    "lenName": 16,
    "lenType": 16,
    "lenVar": 40
   },
   "kernels_config": {
    "python": {
     "delete_cmd_postfix": "",
     "delete_cmd_prefix": "del ",
     "library": "var_list.py",
     "varRefreshCmd": "print(var_dic_list())"
    },
    "r": {
     "delete_cmd_postfix": ") ",
     "delete_cmd_prefix": "rm(",
     "library": "var_list.r",
     "varRefreshCmd": "cat(var_dic_list()) "
    }
   },
   "oldHeight": 227.25,
   "position": {
    "height": "248.85px",
    "left": "911.2px",
    "right": "20px",
    "top": "116px",
    "width": "606.2px"
   },
   "types_to_exclude": [
    "module",
    "function",
    "builtin_function_or_method",
    "instance",
    "_Feature"
   ],
   "varInspector_section_display": "block",
   "window_display": false
  }
 },
 "nbformat": 4,
 "nbformat_minor": 4
}
